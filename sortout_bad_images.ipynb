{
 "cells": [
  {
   "cell_type": "code",
   "execution_count": 24,
   "metadata": {},
   "outputs": [],
   "source": [
    "import pandas as pd\n",
    "import os\n",
    "import itertools"
   ]
  },
  {
   "cell_type": "markdown",
   "metadata": {},
   "source": [
    "### Get bad Images"
   ]
  },
  {
   "cell_type": "code",
   "execution_count": null,
   "metadata": {},
   "outputs": [],
   "source": [
    "bad_images = pd.read_csv('bad_images/Chordata_bad_images.csv')['BadImageRelativePath'].tolist()"
   ]
  },
  {
   "cell_type": "markdown",
   "metadata": {},
   "source": [
    "# Get all filepaths"
   ]
  },
  {
   "cell_type": "code",
   "execution_count": 82,
   "metadata": {},
   "outputs": [
    {
     "name": "stdout",
     "output_type": "stream",
     "text": [
      "Created or found destination folder: cleaned_chordata_images\n",
      "\n",
      "Finished copying.\n",
      "Successfully copied 17490 files.\n",
      "Cleaned images are in 'cleaned_chordata_images' with original subdirectory structure.\n"
     ]
    }
   ],
   "source": [
    "import shutil \n",
    "\n",
    "\n",
    "# base_directory\n",
    "base_dir = 'chordata_images'\n",
    "# get the class directories\n",
    "class_dir = sorted([d for d in sorted(os.listdir(base_dir)) if os.path.isdir(os.path.join(base_dir, d))])\n",
    "\n",
    "good_files_paths = [\n",
    "    os.path.join(base_dir, class_name, file_name) for class_name in class_dir for file_name in os.listdir(os.path.join(base_dir, class_name)) \n",
    "        if os.path.join(class_name, file_name) not in bad_images \n",
    "]\n",
    "\n",
    "\n",
    "# 1. Define the name for the new directory\n",
    "destination_folder = 'cleaned_chordata_images'\n",
    "\n",
    "# 2. Create the destination directory\n",
    "# os.makedirs() creates parent directories if needed and doesn't raise an error if it already exists (exist_ok=True)\n",
    "os.makedirs(destination_folder, exist_ok=True)\n",
    "print(f\"Created or found destination folder: {destination_folder}\")\n",
    "\n",
    "# 3. Loop through the good file paths and copy them\n",
    "copied_count = 0\n",
    "for original_file_path in good_files_paths:\n",
    "    # Check if the source file actually exists before trying to copy\n",
    "    if not os.path.exists(original_file_path):\n",
    "        print(f\"Warning: Source file not found, skipping: {original_file_path}\")\n",
    "        continue\n",
    "\n",
    "    try:\n",
    "        # Extract the relative path part (e.g., 'aves/good_bird.jpg')\n",
    "        # We assume the structure is like 'some_base_dir/class_name/filename.ext'\n",
    "        # os.path.normpath handles different OS separators\n",
    "        # os.path.split splits the path into (head, tail) -> ('chordata_images/aves', 'good_bird.jpg')\n",
    "        # Then we split the head again -> ('chordata_images', 'aves')\n",
    "        # We take the second element of the second split, which is the class name\n",
    "        parts = os.path.normpath(original_file_path).split(os.sep)\n",
    "        if len(parts) < 3:\n",
    "                print(f\"Warning: Could not determine class directory from path, skipping: {original_file_path}\")\n",
    "                continue\n",
    "        # Assuming the class name is the second to last part\n",
    "        class_name = parts[-2]\n",
    "        file_name = parts[-1] # Same as os.path.basename(original_file_path)`\n",
    "\n",
    "        # Construct the destination subdirectory path (e.g., 'cleaned_chordata_images/aves')\n",
    "        destination_subdir = os.path.join(destination_folder, class_name)\n",
    "\n",
    "        # Create the destination subdirectory if it doesn't exist\n",
    "        os.makedirs(destination_subdir, exist_ok=True)\n",
    "\n",
    "        # Construct the full path for the destination file\n",
    "        destination_file_path = os.path.join(destination_subdir, file_name)\n",
    "\n",
    "        # Copy the file\n",
    "        shutil.copy2(original_file_path, destination_file_path)\n",
    "        copied_count += 1\n",
    "\n",
    "    except Exception as e:\n",
    "        print(f\"Error processing file {original_file_path}: {e}\")\n",
    "    # Copy the file\n",
    "    # shutil.copy2 attempts to preserve metadata (like modification time)\n",
    "    try:\n",
    "        shutil.copy2(original_file_path, destination_file_path)\n",
    "        copied_count += 1\n",
    "    except Exception as e:\n",
    "        print(f\"Error copying file {original_file_path} to {destination_file_path}: {e}\")\n",
    "\n",
    "\n",
    "\n",
    "print(f\"\\nFinished copying.\")\n",
    "print(f\"Successfully copied {copied_count} files.\")\n",
    "print(f\"Cleaned images are in '{destination_folder}' with original subdirectory structure.\")"
   ]
  },
  {
   "cell_type": "code",
   "execution_count": 85,
   "metadata": {},
   "outputs": [
    {
     "data": {
      "text/plain": [
       "8745"
      ]
     },
     "execution_count": 85,
     "metadata": {},
     "output_type": "execute_result"
    }
   ],
   "source": [
    "\n",
    "\n",
    "# base_directory\n",
    "base_dir = 'cleaned_chordata_images'\n",
    "# get the class directories\n",
    "class_dir = sorted([d for d in sorted(os.listdir(base_dir)) if os.path.isdir(os.path.join(base_dir, d))])\n",
    "\n",
    "good_files_paths = [\n",
    "    os.path.join(base_dir, class_name, file_name) for class_name in class_dir for file_name in os.listdir(os.path.join(base_dir, class_name)) \n",
    "]\n",
    "\n",
    "len(good_files_paths)\n"
   ]
  }
 ],
 "metadata": {
  "kernelspec": {
   "display_name": "deeplearning2425-hoZFCvU9-py3.10",
   "language": "python",
   "name": "python3"
  },
  "language_info": {
   "codemirror_mode": {
    "name": "ipython",
    "version": 3
   },
   "file_extension": ".py",
   "mimetype": "text/x-python",
   "name": "python",
   "nbconvert_exporter": "python",
   "pygments_lexer": "ipython3",
   "version": "3.10.15"
  }
 },
 "nbformat": 4,
 "nbformat_minor": 2
}
