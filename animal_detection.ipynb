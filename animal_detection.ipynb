{
 "cells": [
  {
   "cell_type": "markdown",
   "metadata": {},
   "source": [
    "# Creates a list of files that don't contain animals.\n",
    "\n",
    "\"A failure greater than Chernobyl\" - All who look at this file."
   ]
  },
  {
   "cell_type": "code",
   "execution_count": 1,
   "metadata": {},
   "outputs": [],
   "source": [
    "import os\n",
    "from PIL import UnidentifiedImageError\n",
    "from google.cloud import vision"
   ]
  },
  {
   "cell_type": "code",
   "execution_count": 2,
   "metadata": {},
   "outputs": [],
   "source": [
    "#Set up environonment\n",
    "os.environ[\"GOOGLE_APPLICATION_CREDENTIALS\"] = r\"C:\\Users\\sacar\\Downloads\\proud-command-455712-f6-d0e3679e077a.json\"\n",
    "\n",
    "# Create Vision client and image object\n",
    "client = vision.ImageAnnotatorClient()"
   ]
  },
  {
   "cell_type": "code",
   "execution_count": 3,
   "metadata": {},
   "outputs": [
    {
     "name": "stdout",
     "output_type": "stream",
     "text": [
      "\n",
      "✅ Done. Found 8873 images without animals.\n"
     ]
    }
   ],
   "source": [
    "#initialize lists to store images with and without animals\n",
    "images_without_animals = []\n",
    "\n",
    "root_dir = r\"C:\\Users\\sacar\\OneDrive\\Documents\\Semester 2 NOVA\\DL\\DeepLearning2425\\rare_species\"\n",
    "\n",
    "# Loop through folders and files\n",
    "for folder_name in os.listdir(root_dir):\n",
    "    folder_path = os.path.join(root_dir, folder_name)\n",
    "    if not os.path.isdir(folder_path):\n",
    "        continue  # Skip non-folders\n",
    "\n",
    "    for file_name in os.listdir(folder_path):\n",
    "        file_path = os.path.join(folder_path, file_name)\n",
    "\n",
    "        # Only process image files\n",
    "        if not file_name.lower().endswith((\".jpg\", \".jpeg\", \".png\")):\n",
    "            continue\n",
    "\n",
    "        try:\n",
    "\n",
    "            # Load and convert image\n",
    "            with open(file_path, \"rb\") as img_file:\n",
    "                content = img_file.read()\n",
    "            image = vision.Image(content=content)\n",
    "\n",
    "            # Run label detection\n",
    "            response = client.label_detection(image=image)\n",
    "            labels = response.label_annotations\n",
    "\n",
    "            #Check all the labels and see if any of them are animals\n",
    "            has_animal = any(\"animal\" in label.description.lower() for label in labels)\n",
    "            \n",
    "            #Add to list if there are no animals\n",
    "            if not has_animal:\n",
    "                images_without_animals.append(file_path)\n",
    "\n",
    "\n",
    "        except Exception as e:\n",
    "            print(f\"❌ Error processing {file_path}: {e}\")\n",
    "\n",
    "\n",
    "print(f\"\\n✅ Done. Found {len(images_without_animals)} images without animals.\")\n",
    "\n"
   ]
  },
  {
   "cell_type": "code",
   "execution_count": 4,
   "metadata": {},
   "outputs": [
    {
     "name": "stdout",
     "output_type": "stream",
     "text": [
      "Images without animals:\n",
      "C:\\Users\\sacar\\OneDrive\\Documents\\Semester 2 NOVA\\DL\\DeepLearning2425\\rare_species\\arthropoda_apidae\\20647903_1065369_eol-full-size-copy.jpg\n",
      "C:\\Users\\sacar\\OneDrive\\Documents\\Semester 2 NOVA\\DL\\DeepLearning2425\\rare_species\\arthropoda_apidae\\20647904_1065369_eol-full-size-copy.jpg\n",
      "C:\\Users\\sacar\\OneDrive\\Documents\\Semester 2 NOVA\\DL\\DeepLearning2425\\rare_species\\arthropoda_apidae\\20647909_1065369_eol-full-size-copy.jpg\n",
      "C:\\Users\\sacar\\OneDrive\\Documents\\Semester 2 NOVA\\DL\\DeepLearning2425\\rare_species\\arthropoda_apidae\\20647915_1065369_eol-full-size-copy.jpg\n",
      "C:\\Users\\sacar\\OneDrive\\Documents\\Semester 2 NOVA\\DL\\DeepLearning2425\\rare_species\\arthropoda_apidae\\21834153_1065290_eol-full-size-copy.jpg\n",
      "C:\\Users\\sacar\\OneDrive\\Documents\\Semester 2 NOVA\\DL\\DeepLearning2425\\rare_species\\arthropoda_apidae\\21834167_1065290_eol-full-size-copy.jpg\n",
      "C:\\Users\\sacar\\OneDrive\\Documents\\Semester 2 NOVA\\DL\\DeepLearning2425\\rare_species\\arthropoda_apidae\\21834170_1065290_eol-full-size-copy.jpg\n",
      "C:\\Users\\sacar\\OneDrive\\Documents\\Semester 2 NOVA\\DL\\DeepLearning2425\\rare_species\\arthropoda_apidae\\21847566_1065348_eol-full-size-copy.jpg\n",
      "C:\\Users\\sacar\\OneDrive\\Documents\\Semester 2 NOVA\\DL\\DeepLearning2425\\rare_species\\arthropoda_apidae\\21847567_1065348_eol-full-size-copy.jpg\n",
      "C:\\Users\\sacar\\OneDrive\\Documents\\Semester 2 NOVA\\DL\\DeepLearning2425\\rare_species\\arthropoda_apidae\\21847568_1065348_eol-full-size-copy.jpg\n"
     ]
    }
   ],
   "source": [
    "print(f\"Images without animals:\")\n",
    "for img_path in images_without_animals[:10]:\n",
    "    print(img_path)"
   ]
  }
 ],
 "metadata": {
  "kernelspec": {
   "display_name": "tf_env39",
   "language": "python",
   "name": "python3"
  },
  "language_info": {
   "codemirror_mode": {
    "name": "ipython",
    "version": 3
   },
   "file_extension": ".py",
   "mimetype": "text/x-python",
   "name": "python",
   "nbconvert_exporter": "python",
   "pygments_lexer": "ipython3",
   "version": "3.9.13"
  }
 },
 "nbformat": 4,
 "nbformat_minor": 2
}
