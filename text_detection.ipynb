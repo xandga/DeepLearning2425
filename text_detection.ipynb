{
 "cells": [
  {
   "cell_type": "markdown",
   "metadata": {},
   "source": [
    "# Notebook for text detection in images.\n",
    "Returns a list of image file paths with text."
   ]
  },
  {
   "cell_type": "code",
   "execution_count": 1,
   "metadata": {},
   "outputs": [],
   "source": [
    "#Import libraries\n",
    "import easyocr\n",
    "import os\n"
   ]
  },
  {
   "cell_type": "code",
   "execution_count": 3,
   "metadata": {},
   "outputs": [],
   "source": [
    "# Set up EasyOCR reader\n",
    "reader = easyocr.Reader(['en'],gpu=True)"
   ]
  },
  {
   "cell_type": "code",
   "execution_count": 2,
   "metadata": {},
   "outputs": [
    {
     "name": "stdout",
     "output_type": "stream",
     "text": [
      "True\n"
     ]
    }
   ],
   "source": [
    "import torch\n",
    "print(torch.cuda.is_available())\n"
   ]
  },
  {
   "cell_type": "code",
   "execution_count": null,
   "metadata": {},
   "outputs": [
    {
     "name": "stdout",
     "output_type": "stream",
     "text": [
      "❌ Error processing C:\\Users\\sacar\\OneDrive\\Documents\\Semester 2 NOVA\\DL\\DeepLearning2425\\rare_species\\arthropoda_pseudophasmatidae\\29945322_1077217_eol-full-size-copy.jpg: OpenCV(4.11.0) D:\\a\\opencv-python\\opencv-python\\opencv\\modules\\imgproc\\src\\resize.cpp:4208: error: (-215:Assertion failed) !ssize.empty() in function 'cv::resize'\n",
      "\n"
     ]
    }
   ],
   "source": [
    "import os\n",
    "import easyocr\n",
    "from PIL import Image, UnidentifiedImageError\n",
    "\n",
    "# Initialize the OCR reader\n",
    "reader = easyocr.Reader(['en'], gpu=True)\n",
    "\n",
    "# Store paths of images with text\n",
    "images_with_text = []\n",
    "\n",
    "# Root directory\n",
    "root_dir = r\"C:\\Users\\sacar\\OneDrive\\Documents\\Semester 2 NOVA\\DL\\DeepLearning2425\\rare_species\"\n",
    "\n",
    "# Loop through folders and files\n",
    "for folder_name in os.listdir(root_dir):\n",
    "    folder_path = os.path.join(root_dir, folder_name)\n",
    "    if not os.path.isdir(folder_path):\n",
    "        continue  # Skip non-folders\n",
    "\n",
    "    for file_name in os.listdir(folder_path):\n",
    "        file_path = os.path.join(folder_path, file_name)\n",
    "\n",
    "        # Only process image files\n",
    "        if not file_name.lower().endswith((\".jpg\", \".jpeg\", \".png\")):\n",
    "            continue\n",
    "\n",
    "        try:\n",
    "            # Check for image validity first\n",
    "            with Image.open(file_path) as img:\n",
    "                img.verify()  # Will throw if file is invalid\n",
    "\n",
    "            # Actually run OCR\n",
    "            has_text = bool(reader.readtext(file_path))\n",
    "            if has_text:\n",
    "                images_with_text.append(file_path)\n",
    "\n",
    "        #Exception\n",
    "        except Exception as e:\n",
    "            print(f\"Error processing {file_path}: {e}\")\n",
    "\n",
    "print(f\"\\n✅ Done. Found {len(images_with_text)} images with text.\")\n"
   ]
  },
  {
   "cell_type": "code",
   "execution_count": null,
   "metadata": {},
   "outputs": [
    {
     "ename": "NameError",
     "evalue": "name 'images_with_text' is not defined",
     "output_type": "error",
     "traceback": [
      "\u001b[1;31m---------------------------------------------------------------------------\u001b[0m",
      "\u001b[1;31mNameError\u001b[0m                                 Traceback (most recent call last)",
      "Cell \u001b[1;32mIn[1], line 1\u001b[0m\n\u001b[1;32m----> 1\u001b[0m \u001b[38;5;28;01mfor\u001b[39;00m link \u001b[38;5;129;01min\u001b[39;00m \u001b[43mimages_with_text\u001b[49m:\n\u001b[0;32m      2\u001b[0m     \u001b[38;5;28mprint\u001b[39m(link)\n",
      "\u001b[1;31mNameError\u001b[0m: name 'images_with_text' is not defined"
     ]
    }
   ],
   "source": []
  }
 ],
 "metadata": {
  "kernelspec": {
   "display_name": "tf_env39",
   "language": "python",
   "name": "python3"
  },
  "language_info": {
   "codemirror_mode": {
    "name": "ipython",
    "version": 3
   },
   "file_extension": ".py",
   "mimetype": "text/x-python",
   "name": "python",
   "nbconvert_exporter": "python",
   "pygments_lexer": "ipython3",
   "version": "3.9.13"
  }
 },
 "nbformat": 4,
 "nbformat_minor": 2
}
